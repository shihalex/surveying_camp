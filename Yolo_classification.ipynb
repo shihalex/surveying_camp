{
 "cells": [
  {
   "cell_type": "code",
   "execution_count": 7,
   "metadata": {},
   "outputs": [
    {
     "name": "stdout",
     "output_type": "stream",
     "text": [
      "✅ YOLO-CLS 裁剪 & 類別合併完成！\n",
      "✅ `valid/` 已成功更名為 `val/`\n",
      "✅ YOLO-CLS 裁剪 & 類別合併完成！\n"
     ]
    }
   ],
   "source": [
    "import os\n",
    "import cv2\n",
    "import yaml\n",
    "import random\n",
    "import numpy as np\n",
    "\n",
    "# 設定原始資料夾\n",
    "dataset_path = \"Convert-Dataset-New-2\"\n",
    "output_path = \"dataset-yolo-cls-cropped\"\n",
    "\n",
    "# 設定最小影像尺寸（例如 32x32）\n",
    "min_size = 32\n",
    "background_samples = 2  # 每張圖產生 5 個 background 樣本\n",
    "\n",
    "# 讀取 data.yaml 獲取類別名稱\n",
    "yaml_path = os.path.join(dataset_path, \"data.yaml\")\n",
    "with open(yaml_path, \"r\", encoding=\"utf-8\") as f:\n",
    "    data_config = yaml.safe_load(f)\n",
    "\n",
    "# 取得類別名稱對應\n",
    "class_names = data_config[\"names\"]  # 這是一個 list，對應類別 ID\n",
    "\n",
    "# **合併 front_* 和 back_* 的類別**\n",
    "class_mapping = {\n",
    "    \"front_wheel\": \"wheel\", \"back_wheel\": \"wheel\",\n",
    "    \"front_pedal\": \"pedal\", \"back_pedal\": \"pedal\",\n",
    "    \"front_handle\": \"handle\", \"back_handle\": \"handle\",\n",
    "    \"front_mudguard\": \"mudguard\", \"back_mudguard\": \"mudguard\",\n",
    "    \"front_handbreak\": \"handbrake\", \"back_hand_break\": \"handbrake\",\n",
    "    \"front_light\": \"light\", \"back_light\": \"light\",\n",
    "    \"front_reflector\": \"reflector\", \"back_reflector\": \"reflector\",\n",
    "    \"saddle\": \"saddle\",\n",
    "    \"bell\": \"bell\", \"chain\": \"chain\", \"kickstand\": \"kickstand\",\n",
    "    \"lock\": \"lock\", \"steer\": \"steer\", \"gear_case\": \"gear_case\",\n",
    "    \"dress_guard\": \"dress_guard\", \"dynamo\": \"dynamo\"\n",
    "}\n",
    "\n",
    "# 取得合併後的唯一類別列表\n",
    "final_classes = [\"background\"] + sorted(set(class_mapping.values()))  # 背景=0，其餘類別依序排序\n",
    "\n",
    "# 建立新資料夾\n",
    "os.makedirs(output_path, exist_ok=True)\n",
    "\n",
    "# 處理 Train 和 Val\n",
    "for split in [\"train\", \"valid\"]:\n",
    "    images_dir = os.path.join(dataset_path, split, \"images\")\n",
    "    labels_dir = os.path.join(dataset_path, split, \"labels\")\n",
    "\n",
    "    if not os.path.exists(labels_dir):\n",
    "        continue  # 如果沒有標註，跳過\n",
    "\n",
    "    # 讀取標註檔案\n",
    "    for label_file in os.listdir(labels_dir):\n",
    "        if not label_file.endswith(\".txt\"):\n",
    "            continue\n",
    "\n",
    "        label_path = os.path.join(labels_dir, label_file)\n",
    "        image_name = label_file.replace(\".txt\", \".jpg\")\n",
    "        image_path = os.path.join(images_dir, image_name)\n",
    "\n",
    "        if not os.path.exists(image_path):\n",
    "            continue  # 確保影像存在\n",
    "\n",
    "        # 讀取影像\n",
    "        image = cv2.imread(image_path)\n",
    "        if image is None:\n",
    "            continue\n",
    "\n",
    "        img_height, img_width, _ = image.shape  # 取得影像尺寸\n",
    "\n",
    "        # 讀取標註檔案\n",
    "        with open(label_path, \"r\") as f:\n",
    "            lines = f.readlines()\n",
    "\n",
    "        # 初始化標註類別\n",
    "        detected_classes = set()\n",
    "        bounding_boxes = []\n",
    "\n",
    "        # **處理每一個 bounding box**\n",
    "        for idx, line in enumerate(lines):\n",
    "            parts = line.strip().split()\n",
    "            if len(parts) < 5:\n",
    "                continue  # 確保資料完整\n",
    "\n",
    "            class_id = int(parts[0])  # 類別 ID\n",
    "            class_name = class_names[class_id]  # 取得對應的類別名稱\n",
    "\n",
    "            # **判斷類別是否在合併對應表**\n",
    "            if class_name in class_mapping:\n",
    "                merged_class_name = class_mapping[class_name]  # 轉換成合併後的類別名稱\n",
    "                final_class_id = final_classes.index(merged_class_name)  # 取得新索引\n",
    "            else:\n",
    "                continue  # 忽略未定義的類別\n",
    "\n",
    "            # 取得 YOLO 標註的 bounding box\n",
    "            x_center, y_center, width, height = map(float, parts[1:])\n",
    "\n",
    "            # 轉換相對座標為實際像素座標\n",
    "            x1 = int((x_center - width / 2) * img_width)\n",
    "            y1 = int((y_center - height / 2) * img_height)\n",
    "            x2 = int((x_center + width / 2) * img_width)\n",
    "            y2 = int((y_center + height / 2) * img_height)\n",
    "\n",
    "            # 確保座標不超出範圍\n",
    "            x1, y1 = max(0, x1), max(0, y1)\n",
    "            x2, y2 = min(img_width, x2), min(img_height, y2)\n",
    "\n",
    "            # **儲存 bounding box 座標**\n",
    "            bounding_boxes.append((x1, y1, x2, y2))\n",
    "\n",
    "            # 裁剪影像\n",
    "            cropped_img = image[y1:y2, x1:x2]\n",
    "\n",
    "            # **過濾掉過小的影像**\n",
    "            if cropped_img.shape[0] < min_size or cropped_img.shape[1] < min_size:\n",
    "                continue  # 忽略尺寸過小的影像\n",
    "\n",
    "            # **建立資料夾**\n",
    "            class_dir = os.path.join(output_path, split, merged_class_name)\n",
    "            os.makedirs(class_dir, exist_ok=True)\n",
    "\n",
    "            # 儲存裁剪影像\n",
    "            cropped_filename = f\"{image_name.replace('.jpg', '')}_{idx}.jpg\"\n",
    "            cropped_path = os.path.join(class_dir, cropped_filename)\n",
    "            cv2.imwrite(cropped_path, cropped_img)\n",
    "\n",
    "            detected_classes.add(final_class_id)  # 記錄此影像的類別\n",
    "\n",
    "        # **隨機取 5 個「不與 bounding box 重疊」的區域作為背景**\n",
    "        bg_dir = os.path.join(output_path, split, \"background\")\n",
    "        os.makedirs(bg_dir, exist_ok=True)\n",
    "\n",
    "        for i in range(background_samples):\n",
    "            for _ in range(20):  # 最多嘗試 20 次以找到適合的背景區域\n",
    "                rand_x = random.randint(0, img_width - min_size)\n",
    "                rand_y = random.randint(0, img_height - min_size)\n",
    "                rand_x2 = rand_x + min_size\n",
    "                rand_y2 = rand_y + min_size\n",
    "\n",
    "                # **檢查是否與 bounding box 重疊**\n",
    "                overlap = False\n",
    "                for (x1, y1, x2, y2) in bounding_boxes:\n",
    "                    if not (rand_x2 < x1 or rand_x > x2 or rand_y2 < y1 or rand_y > y2):\n",
    "                        overlap = True\n",
    "                        break\n",
    "\n",
    "                if not overlap:\n",
    "                    bg_crop = image[rand_y:rand_y2, rand_x:rand_x2]\n",
    "                    if bg_crop.shape[0] < min_size or bg_crop.shape[1] < min_size:\n",
    "                        continue  # 確保背景區域不會太小\n",
    "                    bg_filename = f\"{image_name.replace('.jpg', '')}_bg_{i}.jpg\"\n",
    "                    bg_path = os.path.join(bg_dir, bg_filename)\n",
    "                    cv2.imwrite(bg_path, bg_crop)\n",
    "                    break  # 成功找到背景區域後跳出內部迴圈\n",
    "\n",
    "# 處理完所有資料後，將 valid 重新命名為 val\n",
    "valid_path = os.path.join(output_path, \"valid\")\n",
    "val_path = os.path.join(output_path, \"val\")\n",
    "\n",
    "if os.path.exists(valid_path):\n",
    "    os.rename(valid_path, val_path)\n",
    "    print(f\"✅ `valid/` 已成功更名為 `val/`\")\n",
    "else:\n",
    "    print(f\"⚠️ `valid/` 目錄不存在，可能已經是 `val/` 或未生成。\")\n",
    "\n",
    "print(\"✅ YOLO-CLS 裁剪 & 類別合併完成！\")\n"
   ]
  },
  {
   "cell_type": "code",
   "execution_count": 8,
   "metadata": {},
   "outputs": [
    {
     "name": "stdout",
     "output_type": "stream",
     "text": [
      "✅ `data.yaml` 已成功建立，路徑: dataset-yolo-cls-cropped/data.yaml\n"
     ]
    }
   ],
   "source": [
    "# 設定資料集的根目錄\n",
    "dataset_root = \"dataset-yolo-cls-cropped\"\n",
    "\n",
    "# 設定 train/ 和 val/ 的路徑\n",
    "train_dir = os.path.join(dataset_root, \"train\")\n",
    "val_dir = os.path.join(dataset_root, \"val\")\n",
    "\n",
    "# 檢查 train/ 是否存在\n",
    "if not os.path.exists(train_dir):\n",
    "    raise FileNotFoundError(f\"❌ 錯誤: `{train_dir}` 不存在！請檢查你的資料集路徑。\")\n",
    "\n",
    "# 讀取類別名稱\n",
    "class_names = sorted(os.listdir(train_dir))  # 取得類別名稱\n",
    "num_classes = len(class_names)  # 計算類別數量\n",
    "\n",
    "# 建立 YAML 內容\n",
    "yaml_content = {\n",
    "    \"train\": os.path.abspath(train_dir),  # 設定 train 資料夾的完整路徑\n",
    "    \"val\": os.path.abspath(val_dir),      # 設定 val 資料夾的完整路徑\n",
    "    \"nc\": num_classes,                    # 類別數量\n",
    "    \"names\": class_names                   # 類別名稱\n",
    "}\n",
    "\n",
    "# 儲存 `data.yaml`\n",
    "yaml_path = os.path.join(dataset_root, \"data.yaml\")\n",
    "with open(yaml_path, \"w\", encoding=\"utf-8\") as f:\n",
    "    yaml.dump(yaml_content, f, default_flow_style=False, allow_unicode=True)\n",
    "\n",
    "print(f\"✅ `data.yaml` 已成功建立，路徑: {yaml_path}\")"
   ]
  },
  {
   "cell_type": "code",
   "execution_count": 9,
   "metadata": {},
   "outputs": [
    {
     "name": "stdout",
     "output_type": "stream",
     "text": [
      "New https://pypi.org/project/ultralytics/8.3.85 available 😃 Update with 'pip install -U ultralytics'\n",
      "Ultralytics 8.3.84 🚀 Python-3.9.21 torch-2.6.0+cu124 CUDA:0 (NVIDIA GeForce RTX 3090, 24161MiB)\n",
      "\u001b[34m\u001b[1mengine/trainer: \u001b[0mtask=classify, mode=train, model=yolov8n-cls.pt, data=./dataset-yolo-cls-cropped, epochs=20, time=None, patience=100, batch=64, imgsz=224, save=True, save_period=-1, cache=False, device=cuda, workers=8, project=None, name=train4, exist_ok=False, pretrained=True, optimizer=auto, verbose=True, seed=0, deterministic=True, single_cls=False, rect=False, cos_lr=False, close_mosaic=10, resume=False, amp=True, fraction=1.0, profile=False, freeze=None, multi_scale=False, overlap_mask=True, mask_ratio=4, dropout=0.0, val=True, split=val, save_json=False, save_hybrid=False, conf=None, iou=0.7, max_det=300, half=False, dnn=False, plots=True, source=None, vid_stride=1, stream_buffer=False, visualize=False, augment=False, agnostic_nms=False, classes=None, retina_masks=False, embed=None, show=False, save_frames=False, save_txt=False, save_conf=False, save_crop=False, show_labels=True, show_conf=True, show_boxes=True, line_width=None, format=torchscript, keras=False, optimize=False, int8=False, dynamic=False, simplify=True, opset=None, workspace=None, nms=False, lr0=0.01, lrf=0.01, momentum=0.937, weight_decay=0.0005, warmup_epochs=3.0, warmup_momentum=0.8, warmup_bias_lr=0.1, box=7.5, cls=0.5, dfl=1.5, pose=12.0, kobj=1.0, nbs=64, hsv_h=0.015, hsv_s=0.7, hsv_v=0.4, degrees=0.0, translate=0.1, scale=0.5, shear=0.0, perspective=0.0, flipud=0.0, fliplr=0.5, bgr=0.0, mosaic=1.0, mixup=0.0, copy_paste=0.0, copy_paste_mode=flip, auto_augment=randaugment, erasing=0.4, crop_fraction=1.0, cfg=None, tracker=botsort.yaml, save_dir=runs/classify/train4\n",
      "\u001b[34m\u001b[1mtrain:\u001b[0m /home/user/LAB/Surveying_Camp/dataset-yolo-cls-cropped/train... found 111917 images in 17 classes ✅ \n",
      "\u001b[34m\u001b[1mval:\u001b[0m /home/user/LAB/Surveying_Camp/dataset-yolo-cls-cropped/val... found 15943 images in 17 classes ✅ \n",
      "\u001b[34m\u001b[1mtest:\u001b[0m None...\n",
      "Overriding model.yaml nc=1000 with nc=17\n",
      "\n",
      "                   from  n    params  module                                       arguments                     \n",
      "  0                  -1  1       464  ultralytics.nn.modules.conv.Conv             [3, 16, 3, 2]                 \n",
      "  1                  -1  1      4672  ultralytics.nn.modules.conv.Conv             [16, 32, 3, 2]                \n",
      "  2                  -1  1      7360  ultralytics.nn.modules.block.C2f             [32, 32, 1, True]             \n",
      "  3                  -1  1     18560  ultralytics.nn.modules.conv.Conv             [32, 64, 3, 2]                \n",
      "  4                  -1  2     49664  ultralytics.nn.modules.block.C2f             [64, 64, 2, True]             \n",
      "  5                  -1  1     73984  ultralytics.nn.modules.conv.Conv             [64, 128, 3, 2]               \n",
      "  6                  -1  2    197632  ultralytics.nn.modules.block.C2f             [128, 128, 2, True]           \n",
      "  7                  -1  1    295424  ultralytics.nn.modules.conv.Conv             [128, 256, 3, 2]              \n",
      "  8                  -1  1    460288  ultralytics.nn.modules.block.C2f             [256, 256, 1, True]           \n",
      "  9                  -1  1    352017  ultralytics.nn.modules.head.Classify         [256, 17]                     \n",
      "YOLOv8n-cls summary: 56 layers, 1,460,065 parameters, 1,460,065 gradients, 3.4 GFLOPs\n",
      "Transferred 156/158 items from pretrained weights\n",
      "\u001b[34m\u001b[1mAMP: \u001b[0mrunning Automatic Mixed Precision (AMP) checks...\n",
      "\u001b[34m\u001b[1mAMP: \u001b[0mchecks passed ✅\n"
     ]
    },
    {
     "name": "stderr",
     "output_type": "stream",
     "text": [
      "\u001b[34m\u001b[1mtrain: \u001b[0mScanning /home/user/LAB/Surveying_Camp/dataset-yolo-cls-cropped/train...\u001b[0m\n"
     ]
    },
    {
     "name": "stdout",
     "output_type": "stream",
     "text": [
      "\u001b[34m\u001b[1mtrain: \u001b[0mNew cache created: /home/user/LAB/Surveying_Camp/dataset-yolo-cls-cropped/train.cache\n"
     ]
    },
    {
     "name": "stderr",
     "output_type": "stream",
     "text": [
      "\u001b[34m\u001b[1mval: \u001b[0mScanning /home/user/LAB/Surveying_Camp/dataset-yolo-cls-cropped/val... 159\u001b[0m"
     ]
    },
    {
     "name": "stdout",
     "output_type": "stream",
     "text": [
      "\u001b[34m\u001b[1mval: \u001b[0mNew cache created: /home/user/LAB/Surveying_Camp/dataset-yolo-cls-cropped/val.cache\n"
     ]
    },
    {
     "name": "stderr",
     "output_type": "stream",
     "text": [
      "\n"
     ]
    },
    {
     "name": "stdout",
     "output_type": "stream",
     "text": [
      "\u001b[34m\u001b[1moptimizer:\u001b[0m 'optimizer=auto' found, ignoring 'lr0=0.01' and 'momentum=0.937' and determining best 'optimizer', 'lr0' and 'momentum' automatically... \n",
      "\u001b[34m\u001b[1moptimizer:\u001b[0m SGD(lr=0.01, momentum=0.9) with parameter groups 26 weight(decay=0.0), 27 weight(decay=0.0005), 27 bias(decay=0.0)\n",
      "Image sizes 224 train, 224 val\n",
      "Using 8 dataloader workers\n",
      "Logging results to \u001b[1mruns/classify/train4\u001b[0m\n",
      "Starting training for 20 epochs...\n",
      "\n",
      "      Epoch    GPU_mem       loss  Instances       Size\n"
     ]
    },
    {
     "name": "stderr",
     "output_type": "stream",
     "text": [
      "       1/20     0.758G      1.231         45        224: 100%|██████████| 1749/\n",
      "               classes   top1_acc   top5_acc: 100%|██████████| 125/125 [00:07<0"
     ]
    },
    {
     "name": "stdout",
     "output_type": "stream",
     "text": [
      "                   all      0.779      0.981\n"
     ]
    },
    {
     "name": "stderr",
     "output_type": "stream",
     "text": [
      "\n"
     ]
    },
    {
     "name": "stdout",
     "output_type": "stream",
     "text": [
      "\n",
      "      Epoch    GPU_mem       loss  Instances       Size\n"
     ]
    },
    {
     "name": "stderr",
     "output_type": "stream",
     "text": [
      "       2/20     0.754G     0.6627         45        224: 100%|██████████| 1749/\n",
      "               classes   top1_acc   top5_acc: 100%|██████████| 125/125 [00:07<0"
     ]
    },
    {
     "name": "stdout",
     "output_type": "stream",
     "text": [
      "                   all      0.808      0.989\n"
     ]
    },
    {
     "name": "stderr",
     "output_type": "stream",
     "text": [
      "\n"
     ]
    },
    {
     "name": "stdout",
     "output_type": "stream",
     "text": [
      "\n",
      "      Epoch    GPU_mem       loss  Instances       Size\n"
     ]
    },
    {
     "name": "stderr",
     "output_type": "stream",
     "text": [
      "       3/20     0.748G      0.594         45        224: 100%|██████████| 1749/\n",
      "               classes   top1_acc   top5_acc: 100%|██████████| 125/125 [00:06<0"
     ]
    },
    {
     "name": "stdout",
     "output_type": "stream",
     "text": [
      "                   all      0.815      0.989\n"
     ]
    },
    {
     "name": "stderr",
     "output_type": "stream",
     "text": [
      "\n"
     ]
    },
    {
     "name": "stdout",
     "output_type": "stream",
     "text": [
      "\n",
      "      Epoch    GPU_mem       loss  Instances       Size\n"
     ]
    },
    {
     "name": "stderr",
     "output_type": "stream",
     "text": [
      "       4/20     0.748G     0.5638         45        224: 100%|██████████| 1749/\n",
      "               classes   top1_acc   top5_acc: 100%|██████████| 125/125 [00:06<0"
     ]
    },
    {
     "name": "stdout",
     "output_type": "stream",
     "text": [
      "                   all      0.827      0.992\n"
     ]
    },
    {
     "name": "stderr",
     "output_type": "stream",
     "text": [
      "\n"
     ]
    },
    {
     "name": "stdout",
     "output_type": "stream",
     "text": [
      "\n",
      "      Epoch    GPU_mem       loss  Instances       Size\n"
     ]
    },
    {
     "name": "stderr",
     "output_type": "stream",
     "text": [
      "       5/20     0.748G      0.524         45        224: 100%|██████████| 1749/\n",
      "               classes   top1_acc   top5_acc: 100%|██████████| 125/125 [00:07<0"
     ]
    },
    {
     "name": "stdout",
     "output_type": "stream",
     "text": [
      "                   all      0.829      0.993\n"
     ]
    },
    {
     "name": "stderr",
     "output_type": "stream",
     "text": [
      "\n"
     ]
    },
    {
     "name": "stdout",
     "output_type": "stream",
     "text": [
      "\n",
      "      Epoch    GPU_mem       loss  Instances       Size\n"
     ]
    },
    {
     "name": "stderr",
     "output_type": "stream",
     "text": [
      "       6/20     0.748G     0.5006         45        224: 100%|██████████| 1749/\n",
      "               classes   top1_acc   top5_acc: 100%|██████████| 125/125 [00:07<0\n"
     ]
    },
    {
     "name": "stdout",
     "output_type": "stream",
     "text": [
      "                   all      0.839      0.994\n",
      "\n",
      "      Epoch    GPU_mem       loss  Instances       Size\n"
     ]
    },
    {
     "name": "stderr",
     "output_type": "stream",
     "text": [
      "       7/20     0.748G     0.4894         45        224: 100%|██████████| 1749/\n",
      "               classes   top1_acc   top5_acc: 100%|██████████| 125/125 [00:07<0"
     ]
    },
    {
     "name": "stdout",
     "output_type": "stream",
     "text": [
      "                   all      0.838      0.994\n"
     ]
    },
    {
     "name": "stderr",
     "output_type": "stream",
     "text": [
      "\n"
     ]
    },
    {
     "name": "stdout",
     "output_type": "stream",
     "text": [
      "\n",
      "      Epoch    GPU_mem       loss  Instances       Size\n"
     ]
    },
    {
     "name": "stderr",
     "output_type": "stream",
     "text": [
      "       8/20     0.748G     0.4786         45        224: 100%|██████████| 1749/\n",
      "               classes   top1_acc   top5_acc: 100%|██████████| 125/125 [00:07<0"
     ]
    },
    {
     "name": "stdout",
     "output_type": "stream",
     "text": [
      "                   all      0.842      0.994\n"
     ]
    },
    {
     "name": "stderr",
     "output_type": "stream",
     "text": [
      "\n"
     ]
    },
    {
     "name": "stdout",
     "output_type": "stream",
     "text": [
      "\n",
      "      Epoch    GPU_mem       loss  Instances       Size\n"
     ]
    },
    {
     "name": "stderr",
     "output_type": "stream",
     "text": [
      "       9/20     0.748G     0.4695         45        224: 100%|██████████| 1749/\n",
      "               classes   top1_acc   top5_acc: 100%|██████████| 125/125 [00:07<0"
     ]
    },
    {
     "name": "stdout",
     "output_type": "stream",
     "text": [
      "                   all      0.844      0.994\n"
     ]
    },
    {
     "name": "stderr",
     "output_type": "stream",
     "text": [
      "\n"
     ]
    },
    {
     "name": "stdout",
     "output_type": "stream",
     "text": [
      "\n",
      "      Epoch    GPU_mem       loss  Instances       Size\n"
     ]
    },
    {
     "name": "stderr",
     "output_type": "stream",
     "text": [
      "      10/20     0.748G     0.4638         45        224: 100%|██████████| 1749/\n",
      "               classes   top1_acc   top5_acc: 100%|██████████| 125/125 [00:07<0"
     ]
    },
    {
     "name": "stdout",
     "output_type": "stream",
     "text": [
      "                   all      0.846      0.995\n"
     ]
    },
    {
     "name": "stderr",
     "output_type": "stream",
     "text": [
      "\n"
     ]
    },
    {
     "name": "stdout",
     "output_type": "stream",
     "text": [
      "\n",
      "      Epoch    GPU_mem       loss  Instances       Size\n"
     ]
    },
    {
     "name": "stderr",
     "output_type": "stream",
     "text": [
      "      11/20     0.748G     0.4557         45        224: 100%|██████████| 1749/\n",
      "               classes   top1_acc   top5_acc: 100%|██████████| 125/125 [00:07<0"
     ]
    },
    {
     "name": "stdout",
     "output_type": "stream",
     "text": [
      "                   all      0.846      0.995\n"
     ]
    },
    {
     "name": "stderr",
     "output_type": "stream",
     "text": [
      "\n"
     ]
    },
    {
     "name": "stdout",
     "output_type": "stream",
     "text": [
      "\n",
      "      Epoch    GPU_mem       loss  Instances       Size\n"
     ]
    },
    {
     "name": "stderr",
     "output_type": "stream",
     "text": [
      "      12/20     0.748G     0.4488         45        224: 100%|██████████| 1749/\n",
      "               classes   top1_acc   top5_acc: 100%|██████████| 125/125 [00:07<0"
     ]
    },
    {
     "name": "stdout",
     "output_type": "stream",
     "text": [
      "                   all      0.845      0.995\n"
     ]
    },
    {
     "name": "stderr",
     "output_type": "stream",
     "text": [
      "\n"
     ]
    },
    {
     "name": "stdout",
     "output_type": "stream",
     "text": [
      "\n",
      "      Epoch    GPU_mem       loss  Instances       Size\n"
     ]
    },
    {
     "name": "stderr",
     "output_type": "stream",
     "text": [
      "      13/20     0.748G     0.4381         45        224: 100%|██████████| 1749/\n",
      "               classes   top1_acc   top5_acc: 100%|██████████| 125/125 [00:06<0"
     ]
    },
    {
     "name": "stdout",
     "output_type": "stream",
     "text": [
      "                   all      0.847      0.995\n"
     ]
    },
    {
     "name": "stderr",
     "output_type": "stream",
     "text": [
      "\n"
     ]
    },
    {
     "name": "stdout",
     "output_type": "stream",
     "text": [
      "\n",
      "      Epoch    GPU_mem       loss  Instances       Size\n"
     ]
    },
    {
     "name": "stderr",
     "output_type": "stream",
     "text": [
      "      14/20     0.748G     0.4265         45        224: 100%|██████████| 1749/\n",
      "               classes   top1_acc   top5_acc: 100%|██████████| 125/125 [00:06<0"
     ]
    },
    {
     "name": "stdout",
     "output_type": "stream",
     "text": [
      "                   all      0.848      0.995\n"
     ]
    },
    {
     "name": "stderr",
     "output_type": "stream",
     "text": [
      "\n"
     ]
    },
    {
     "name": "stdout",
     "output_type": "stream",
     "text": [
      "\n",
      "      Epoch    GPU_mem       loss  Instances       Size\n"
     ]
    },
    {
     "name": "stderr",
     "output_type": "stream",
     "text": [
      "      15/20     0.748G     0.4201         45        224: 100%|██████████| 1749/\n",
      "               classes   top1_acc   top5_acc: 100%|██████████| 125/125 [00:06<0"
     ]
    },
    {
     "name": "stdout",
     "output_type": "stream",
     "text": [
      "                   all      0.849      0.995\n"
     ]
    },
    {
     "name": "stderr",
     "output_type": "stream",
     "text": [
      "\n"
     ]
    },
    {
     "name": "stdout",
     "output_type": "stream",
     "text": [
      "\n",
      "      Epoch    GPU_mem       loss  Instances       Size\n"
     ]
    },
    {
     "name": "stderr",
     "output_type": "stream",
     "text": [
      "      16/20     0.748G     0.4089         45        224: 100%|██████████| 1749/\n",
      "               classes   top1_acc   top5_acc: 100%|██████████| 125/125 [00:06<0"
     ]
    },
    {
     "name": "stdout",
     "output_type": "stream",
     "text": [
      "                   all      0.849      0.995\n"
     ]
    },
    {
     "name": "stderr",
     "output_type": "stream",
     "text": [
      "\n"
     ]
    },
    {
     "name": "stdout",
     "output_type": "stream",
     "text": [
      "\n",
      "      Epoch    GPU_mem       loss  Instances       Size\n"
     ]
    },
    {
     "name": "stderr",
     "output_type": "stream",
     "text": [
      "      17/20     0.748G     0.3969         45        224: 100%|██████████| 1749/\n",
      "               classes   top1_acc   top5_acc: 100%|██████████| 125/125 [00:06<0"
     ]
    },
    {
     "name": "stdout",
     "output_type": "stream",
     "text": [
      "                   all      0.849      0.995\n"
     ]
    },
    {
     "name": "stderr",
     "output_type": "stream",
     "text": [
      "\n"
     ]
    },
    {
     "name": "stdout",
     "output_type": "stream",
     "text": [
      "\n",
      "      Epoch    GPU_mem       loss  Instances       Size\n"
     ]
    },
    {
     "name": "stderr",
     "output_type": "stream",
     "text": [
      "      18/20     0.748G     0.3845         45        224: 100%|██████████| 1749/\n",
      "               classes   top1_acc   top5_acc: 100%|██████████| 125/125 [00:06<0"
     ]
    },
    {
     "name": "stdout",
     "output_type": "stream",
     "text": [
      "                   all       0.85      0.995\n"
     ]
    },
    {
     "name": "stderr",
     "output_type": "stream",
     "text": [
      "\n"
     ]
    },
    {
     "name": "stdout",
     "output_type": "stream",
     "text": [
      "\n",
      "      Epoch    GPU_mem       loss  Instances       Size\n"
     ]
    },
    {
     "name": "stderr",
     "output_type": "stream",
     "text": [
      "      19/20     0.748G     0.3717         45        224: 100%|██████████| 1749/\n",
      "               classes   top1_acc   top5_acc: 100%|██████████| 125/125 [00:06<0"
     ]
    },
    {
     "name": "stdout",
     "output_type": "stream",
     "text": [
      "                   all       0.85      0.996\n"
     ]
    },
    {
     "name": "stderr",
     "output_type": "stream",
     "text": [
      "\n"
     ]
    },
    {
     "name": "stdout",
     "output_type": "stream",
     "text": [
      "\n",
      "      Epoch    GPU_mem       loss  Instances       Size\n"
     ]
    },
    {
     "name": "stderr",
     "output_type": "stream",
     "text": [
      "      20/20     0.748G     0.3611         45        224: 100%|██████████| 1749/\n",
      "               classes   top1_acc   top5_acc: 100%|██████████| 125/125 [00:07<0"
     ]
    },
    {
     "name": "stdout",
     "output_type": "stream",
     "text": [
      "                   all      0.849      0.996\n"
     ]
    },
    {
     "name": "stderr",
     "output_type": "stream",
     "text": [
      "\n"
     ]
    },
    {
     "name": "stdout",
     "output_type": "stream",
     "text": [
      "\n",
      "20 epochs completed in 0.430 hours.\n",
      "Optimizer stripped from runs/classify/train4/weights/last.pt, 3.0MB\n",
      "Optimizer stripped from runs/classify/train4/weights/best.pt, 3.0MB\n",
      "\n",
      "Validating runs/classify/train4/weights/best.pt...\n",
      "Ultralytics 8.3.84 🚀 Python-3.9.21 torch-2.6.0+cu124 CUDA:0 (NVIDIA GeForce RTX 3090, 24161MiB)\n",
      "YOLOv8n-cls summary (fused): 30 layers, 1,456,657 parameters, 0 gradients, 3.3 GFLOPs\n",
      "\u001b[34m\u001b[1mtrain:\u001b[0m /home/user/LAB/Surveying_Camp/dataset-yolo-cls-cropped/train... found 111917 images in 17 classes ✅ \n",
      "\u001b[34m\u001b[1mval:\u001b[0m /home/user/LAB/Surveying_Camp/dataset-yolo-cls-cropped/val... found 15943 images in 17 classes ✅ \n",
      "\u001b[34m\u001b[1mtest:\u001b[0m None...\n"
     ]
    },
    {
     "name": "stderr",
     "output_type": "stream",
     "text": [
      "               classes   top1_acc   top5_acc: 100%|██████████| 125/125 [00:07<0\n"
     ]
    },
    {
     "name": "stdout",
     "output_type": "stream",
     "text": [
      "                   all       0.85      0.996\n",
      "Speed: 0.1ms preprocess, 0.1ms inference, 0.0ms loss, 0.0ms postprocess per image\n",
      "Results saved to \u001b[1mruns/classify/train4\u001b[0m\n"
     ]
    },
    {
     "data": {
      "text/plain": [
       "ultralytics.utils.metrics.ClassifyMetrics object with attributes:\n",
       "\n",
       "confusion_matrix: <ultralytics.utils.metrics.ConfusionMatrix object at 0x7fd5e928c670>\n",
       "curves: []\n",
       "curves_results: []\n",
       "fitness: 0.9226306080818176\n",
       "keys: ['metrics/accuracy_top1', 'metrics/accuracy_top5']\n",
       "results_dict: {'metrics/accuracy_top1': 0.8496518731117249, 'metrics/accuracy_top5': 0.9956093430519104, 'fitness': 0.9226306080818176}\n",
       "save_dir: PosixPath('runs/classify/train4')\n",
       "speed: {'preprocess': 0.07245771599512794, 'inference': 0.0707121687559623, 'loss': 0.00015255955196807235, 'postprocess': 0.00027193006903600465}\n",
       "task: 'classify'\n",
       "top1: 0.8496518731117249\n",
       "top5: 0.9956093430519104"
      ]
     },
     "execution_count": 9,
     "metadata": {},
     "output_type": "execute_result"
    }
   ],
   "source": [
    "from ultralytics import YOLO\n",
    "\n",
    "# 載入 YOLOv8 分類模型\n",
    "model = YOLO(\"yolov8n-cls.pt\")\n",
    "\n",
    "model.train(data=\"./dataset-yolo-cls-cropped\", epochs=20, imgsz=224, batch=64, device=\"cuda\", amp=True)"
   ]
  },
  {
   "cell_type": "code",
   "execution_count": 13,
   "metadata": {},
   "outputs": [
    {
     "name": "stdout",
     "output_type": "stream",
     "text": [
      "\n",
      "image 1/112 /home/user/LAB/Surveying_Camp/SL07_4/mask_0.jpg: 224x224 mudguard 0.38, wheel 0.26, steer 0.20, handle 0.05, background 0.04, 2.2ms\n",
      "image 2/112 /home/user/LAB/Surveying_Camp/SL07_4/mask_1.jpg: 224x224 wheel 0.98, mudguard 0.02, reflector 0.00, steer 0.00, light 0.00, 1.8ms\n",
      "image 3/112 /home/user/LAB/Surveying_Camp/SL07_4/mask_10.jpg: 224x224 wheel 0.48, mudguard 0.29, steer 0.10, light 0.03, dress_guard 0.03, 2.2ms\n",
      "image 4/112 /home/user/LAB/Surveying_Camp/SL07_4/mask_100.jpg: 224x224 saddle 0.99, lock 0.00, pedal 0.00, handle 0.00, reflector 0.00, 1.8ms\n",
      "image 5/112 /home/user/LAB/Surveying_Camp/SL07_4/mask_101.jpg: 224x224 background 0.53, pedal 0.18, reflector 0.13, handbrake 0.05, handle 0.04, 1.8ms\n",
      "image 6/112 /home/user/LAB/Surveying_Camp/SL07_4/mask_102.jpg: 224x224 background 0.78, light 0.11, handle 0.02, mudguard 0.02, reflector 0.02, 2.8ms\n",
      "image 7/112 /home/user/LAB/Surveying_Camp/SL07_4/mask_103.jpg: 224x224 background 0.93, pedal 0.06, handle 0.00, light 0.00, dynamo 0.00, 2.9ms\n",
      "image 8/112 /home/user/LAB/Surveying_Camp/SL07_4/mask_104.jpg: 224x224 saddle 0.67, dynamo 0.19, lock 0.08, light 0.02, background 0.01, 1.9ms\n",
      "image 9/112 /home/user/LAB/Surveying_Camp/SL07_4/mask_105.jpg: 224x224 steer 0.50, handbrake 0.10, background 0.10, saddle 0.08, handle 0.06, 2.1ms\n",
      "image 10/112 /home/user/LAB/Surveying_Camp/SL07_4/mask_106.jpg: 224x224 saddle 0.31, handbrake 0.30, handle 0.19, background 0.10, kickstand 0.03, 2.5ms\n",
      "image 11/112 /home/user/LAB/Surveying_Camp/SL07_4/mask_107.jpg: 224x224 saddle 0.87, background 0.04, lock 0.02, dynamo 0.02, pedal 0.02, 1.8ms\n",
      "image 12/112 /home/user/LAB/Surveying_Camp/SL07_4/mask_108.jpg: 224x224 background 0.96, pedal 0.03, handle 0.00, kickstand 0.00, bell 0.00, 1.8ms\n",
      "image 13/112 /home/user/LAB/Surveying_Camp/SL07_4/mask_109.jpg: 224x224 light 0.56, background 0.24, handle 0.08, bell 0.04, handbrake 0.03, 2.5ms\n",
      "image 14/112 /home/user/LAB/Surveying_Camp/SL07_4/mask_11.jpg: 224x224 wheel 0.96, mudguard 0.03, reflector 0.01, gear_case 0.00, chain 0.00, 2.0ms\n",
      "image 15/112 /home/user/LAB/Surveying_Camp/SL07_4/mask_110.jpg: 224x224 handbrake 0.47, handle 0.14, light 0.14, bell 0.11, background 0.06, 1.8ms\n",
      "image 16/112 /home/user/LAB/Surveying_Camp/SL07_4/mask_111.jpg: 224x224 reflector 0.38, light 0.36, background 0.25, handle 0.01, saddle 0.00, 2.5ms\n",
      "image 17/112 /home/user/LAB/Surveying_Camp/SL07_4/mask_12.jpg: 224x224 saddle 0.80, mudguard 0.05, dress_guard 0.05, handle 0.04, lock 0.01, 2.1ms\n",
      "image 18/112 /home/user/LAB/Surveying_Camp/SL07_4/mask_13.jpg: 224x224 background 0.33, steer 0.20, handbrake 0.17, handle 0.09, light 0.05, 1.8ms\n",
      "image 19/112 /home/user/LAB/Surveying_Camp/SL07_4/mask_14.jpg: 224x224 mudguard 0.90, wheel 0.08, dress_guard 0.01, dynamo 0.00, light 0.00, 2.2ms\n",
      "image 20/112 /home/user/LAB/Surveying_Camp/SL07_4/mask_15.jpg: 224x224 mudguard 0.60, wheel 0.26, dynamo 0.04, dress_guard 0.02, steer 0.02, 2.0ms\n",
      "image 21/112 /home/user/LAB/Surveying_Camp/SL07_4/mask_16.jpg: 224x224 mudguard 0.60, dynamo 0.12, light 0.09, dress_guard 0.07, wheel 0.06, 2.0ms\n",
      "image 22/112 /home/user/LAB/Surveying_Camp/SL07_4/mask_17.jpg: 224x224 background 0.94, steer 0.02, handle 0.01, light 0.01, handbrake 0.01, 2.4ms\n",
      "image 23/112 /home/user/LAB/Surveying_Camp/SL07_4/mask_18.jpg: 224x224 mudguard 0.41, pedal 0.16, dress_guard 0.09, wheel 0.07, light 0.07, 1.9ms\n",
      "image 24/112 /home/user/LAB/Surveying_Camp/SL07_4/mask_19.jpg: 224x224 steer 0.48, wheel 0.17, dress_guard 0.14, mudguard 0.05, handle 0.05, 2.0ms\n",
      "image 25/112 /home/user/LAB/Surveying_Camp/SL07_4/mask_2.jpg: 224x224 mudguard 0.25, background 0.24, light 0.17, wheel 0.16, reflector 0.05, 1.9ms\n",
      "image 26/112 /home/user/LAB/Surveying_Camp/SL07_4/mask_20.jpg: 224x224 chain 0.18, steer 0.16, kickstand 0.16, handbrake 0.15, gear_case 0.06, 1.7ms\n",
      "image 27/112 /home/user/LAB/Surveying_Camp/SL07_4/mask_21.jpg: 224x224 steer 0.47, background 0.22, handle 0.12, handbrake 0.08, wheel 0.03, 1.7ms\n",
      "image 28/112 /home/user/LAB/Surveying_Camp/SL07_4/mask_22.jpg: 224x224 wheel 0.50, mudguard 0.19, steer 0.09, handle 0.07, light 0.05, 3.4ms\n",
      "image 29/112 /home/user/LAB/Surveying_Camp/SL07_4/mask_23.jpg: 224x224 wheel 0.98, mudguard 0.02, reflector 0.00, pedal 0.00, gear_case 0.00, 2.1ms\n",
      "image 30/112 /home/user/LAB/Surveying_Camp/SL07_4/mask_24.jpg: 224x224 steer 0.54, handle 0.11, light 0.09, saddle 0.08, mudguard 0.05, 2.0ms\n",
      "image 31/112 /home/user/LAB/Surveying_Camp/SL07_4/mask_25.jpg: 224x224 pedal 0.27, kickstand 0.16, handbrake 0.15, reflector 0.10, steer 0.07, 2.2ms\n",
      "image 32/112 /home/user/LAB/Surveying_Camp/SL07_4/mask_26.jpg: 224x224 steer 0.45, handle 0.14, handbrake 0.10, background 0.10, light 0.04, 2.0ms\n",
      "image 33/112 /home/user/LAB/Surveying_Camp/SL07_4/mask_27.jpg: 224x224 saddle 0.99, mudguard 0.00, lock 0.00, handle 0.00, dress_guard 0.00, 2.0ms\n",
      "image 34/112 /home/user/LAB/Surveying_Camp/SL07_4/mask_28.jpg: 224x224 steer 0.43, saddle 0.22, reflector 0.13, dress_guard 0.06, handle 0.04, 1.9ms\n",
      "image 35/112 /home/user/LAB/Surveying_Camp/SL07_4/mask_29.jpg: 224x224 steer 0.74, handbrake 0.12, handle 0.09, background 0.03, bell 0.02, 1.7ms\n",
      "image 36/112 /home/user/LAB/Surveying_Camp/SL07_4/mask_3.jpg: 224x224 wheel 0.86, mudguard 0.13, saddle 0.00, pedal 0.00, light 0.00, 1.7ms\n",
      "image 37/112 /home/user/LAB/Surveying_Camp/SL07_4/mask_30.jpg: 224x224 mudguard 0.59, wheel 0.08, dress_guard 0.05, steer 0.05, reflector 0.04, 2.1ms\n",
      "image 38/112 /home/user/LAB/Surveying_Camp/SL07_4/mask_31.jpg: 224x224 steer 0.69, handbrake 0.10, handle 0.06, light 0.04, dress_guard 0.03, 2.8ms\n",
      "image 39/112 /home/user/LAB/Surveying_Camp/SL07_4/mask_32.jpg: 224x224 mudguard 0.67, wheel 0.25, light 0.04, reflector 0.02, pedal 0.01, 2.0ms\n",
      "image 40/112 /home/user/LAB/Surveying_Camp/SL07_4/mask_33.jpg: 224x224 mudguard 0.44, dress_guard 0.25, reflector 0.10, saddle 0.09, steer 0.04, 2.5ms\n",
      "image 41/112 /home/user/LAB/Surveying_Camp/SL07_4/mask_34.jpg: 224x224 steer 0.55, background 0.23, handle 0.14, handbrake 0.04, bell 0.02, 2.7ms\n",
      "image 42/112 /home/user/LAB/Surveying_Camp/SL07_4/mask_35.jpg: 224x224 mudguard 0.60, wheel 0.21, handle 0.05, steer 0.04, saddle 0.03, 1.9ms\n",
      "image 43/112 /home/user/LAB/Surveying_Camp/SL07_4/mask_36.jpg: 224x224 steer 0.41, handbrake 0.26, background 0.15, handle 0.07, light 0.04, 2.2ms\n",
      "image 44/112 /home/user/LAB/Surveying_Camp/SL07_4/mask_37.jpg: 224x224 wheel 0.59, mudguard 0.41, light 0.00, dynamo 0.00, dress_guard 0.00, 2.8ms\n",
      "image 45/112 /home/user/LAB/Surveying_Camp/SL07_4/mask_38.jpg: 224x224 saddle 1.00, mudguard 0.00, lock 0.00, dress_guard 0.00, reflector 0.00, 1.8ms\n",
      "image 46/112 /home/user/LAB/Surveying_Camp/SL07_4/mask_39.jpg: 224x224 wheel 0.22, light 0.17, mudguard 0.17, handbrake 0.08, chain 0.07, 2.1ms\n",
      "image 47/112 /home/user/LAB/Surveying_Camp/SL07_4/mask_4.jpg: 224x224 steer 0.91, handle 0.06, handbrake 0.01, light 0.01, saddle 0.00, 2.6ms\n",
      "image 48/112 /home/user/LAB/Surveying_Camp/SL07_4/mask_40.jpg: 224x224 saddle 0.60, dress_guard 0.10, reflector 0.10, steer 0.06, light 0.03, 1.8ms\n",
      "image 49/112 /home/user/LAB/Surveying_Camp/SL07_4/mask_41.jpg: 224x224 steer 0.73, handle 0.10, bell 0.05, background 0.03, handbrake 0.02, 1.9ms\n",
      "image 50/112 /home/user/LAB/Surveying_Camp/SL07_4/mask_42.jpg: 224x224 wheel 0.36, saddle 0.18, mudguard 0.17, dress_guard 0.10, reflector 0.09, 2.2ms\n",
      "image 51/112 /home/user/LAB/Surveying_Camp/SL07_4/mask_43.jpg: 224x224 steer 0.52, handle 0.21, saddle 0.06, light 0.05, handbrake 0.05, 2.5ms\n",
      "image 52/112 /home/user/LAB/Surveying_Camp/SL07_4/mask_44.jpg: 224x224 mudguard 0.58, dress_guard 0.17, saddle 0.06, reflector 0.06, wheel 0.05, 1.8ms\n",
      "image 53/112 /home/user/LAB/Surveying_Camp/SL07_4/mask_45.jpg: 224x224 steer 0.25, handbrake 0.23, handle 0.11, mudguard 0.11, pedal 0.07, 2.4ms\n",
      "image 54/112 /home/user/LAB/Surveying_Camp/SL07_4/mask_46.jpg: 224x224 steer 0.42, handle 0.35, saddle 0.15, handbrake 0.03, reflector 0.02, 2.3ms\n",
      "image 55/112 /home/user/LAB/Surveying_Camp/SL07_4/mask_47.jpg: 224x224 background 0.58, pedal 0.15, wheel 0.05, handbrake 0.04, light 0.03, 1.8ms\n",
      "image 56/112 /home/user/LAB/Surveying_Camp/SL07_4/mask_48.jpg: 224x224 steer 0.32, handbrake 0.25, light 0.13, handle 0.10, bell 0.05, 2.0ms\n",
      "image 57/112 /home/user/LAB/Surveying_Camp/SL07_4/mask_49.jpg: 224x224 light 0.45, mudguard 0.13, saddle 0.08, kickstand 0.06, handbrake 0.06, 1.8ms\n",
      "image 58/112 /home/user/LAB/Surveying_Camp/SL07_4/mask_5.jpg: 224x224 wheel 0.37, chain 0.20, gear_case 0.09, steer 0.07, dress_guard 0.06, 1.7ms\n",
      "image 59/112 /home/user/LAB/Surveying_Camp/SL07_4/mask_50.jpg: 224x224 light 0.55, steer 0.25, reflector 0.04, saddle 0.03, pedal 0.03, 1.9ms\n",
      "image 60/112 /home/user/LAB/Surveying_Camp/SL07_4/mask_51.jpg: 224x224 light 0.22, steer 0.19, saddle 0.17, dress_guard 0.14, reflector 0.12, 2.6ms\n",
      "image 61/112 /home/user/LAB/Surveying_Camp/SL07_4/mask_52.jpg: 224x224 steer 0.35, handbrake 0.30, handle 0.12, saddle 0.08, bell 0.05, 2.0ms\n",
      "image 62/112 /home/user/LAB/Surveying_Camp/SL07_4/mask_53.jpg: 224x224 mudguard 0.41, dress_guard 0.40, light 0.04, wheel 0.04, lock 0.04, 1.8ms\n",
      "image 63/112 /home/user/LAB/Surveying_Camp/SL07_4/mask_54.jpg: 224x224 light 0.41, mudguard 0.19, handbrake 0.18, steer 0.10, handle 0.03, 2.1ms\n",
      "image 64/112 /home/user/LAB/Surveying_Camp/SL07_4/mask_55.jpg: 224x224 mudguard 0.36, dress_guard 0.25, dynamo 0.20, saddle 0.08, wheel 0.03, 2.6ms\n",
      "image 65/112 /home/user/LAB/Surveying_Camp/SL07_4/mask_56.jpg: 224x224 wheel 0.87, mudguard 0.05, pedal 0.03, kickstand 0.01, reflector 0.01, 2.2ms\n",
      "image 66/112 /home/user/LAB/Surveying_Camp/SL07_4/mask_57.jpg: 224x224 saddle 0.51, light 0.08, handbrake 0.08, handle 0.08, steer 0.05, 2.2ms\n",
      "image 67/112 /home/user/LAB/Surveying_Camp/SL07_4/mask_58.jpg: 224x224 handbrake 0.33, pedal 0.22, mudguard 0.08, steer 0.06, handle 0.06, 2.2ms\n",
      "image 68/112 /home/user/LAB/Surveying_Camp/SL07_4/mask_59.jpg: 224x224 saddle 0.82, reflector 0.07, steer 0.04, dress_guard 0.02, light 0.01, 2.1ms\n",
      "image 69/112 /home/user/LAB/Surveying_Camp/SL07_4/mask_6.jpg: 224x224 wheel 0.39, steer 0.28, mudguard 0.16, background 0.06, handle 0.03, 2.7ms\n",
      "image 70/112 /home/user/LAB/Surveying_Camp/SL07_4/mask_60.jpg: 224x224 steer 0.53, light 0.17, handbrake 0.08, handle 0.07, saddle 0.05, 1.8ms\n",
      "image 71/112 /home/user/LAB/Surveying_Camp/SL07_4/mask_61.jpg: 224x224 wheel 0.39, mudguard 0.18, handbrake 0.09, handle 0.08, steer 0.07, 1.6ms\n",
      "image 72/112 /home/user/LAB/Surveying_Camp/SL07_4/mask_62.jpg: 224x224 steer 0.33, handbrake 0.23, handle 0.10, light 0.06, background 0.06, 2.6ms\n",
      "image 73/112 /home/user/LAB/Surveying_Camp/SL07_4/mask_63.jpg: 224x224 saddle 0.64, reflector 0.28, dress_guard 0.02, light 0.02, steer 0.01, 2.1ms\n",
      "image 74/112 /home/user/LAB/Surveying_Camp/SL07_4/mask_64.jpg: 224x224 handle 0.44, steer 0.23, handbrake 0.22, background 0.03, bell 0.02, 1.8ms\n",
      "image 75/112 /home/user/LAB/Surveying_Camp/SL07_4/mask_65.jpg: 224x224 handle 0.51, background 0.27, steer 0.07, dress_guard 0.04, pedal 0.04, 2.6ms\n",
      "image 76/112 /home/user/LAB/Surveying_Camp/SL07_4/mask_66.jpg: 224x224 kickstand 0.27, chain 0.12, pedal 0.11, gear_case 0.09, handbrake 0.08, 2.0ms\n",
      "image 77/112 /home/user/LAB/Surveying_Camp/SL07_4/mask_67.jpg: 224x224 saddle 1.00, lock 0.00, kickstand 0.00, chain 0.00, gear_case 0.00, 1.8ms\n",
      "image 78/112 /home/user/LAB/Surveying_Camp/SL07_4/mask_68.jpg: 224x224 saddle 0.98, handle 0.02, lock 0.00, mudguard 0.00, handbrake 0.00, 2.6ms\n",
      "image 79/112 /home/user/LAB/Surveying_Camp/SL07_4/mask_69.jpg: 224x224 mudguard 0.64, pedal 0.17, wheel 0.11, saddle 0.02, light 0.01, 2.0ms\n",
      "image 80/112 /home/user/LAB/Surveying_Camp/SL07_4/mask_7.jpg: 224x224 mudguard 0.33, steer 0.24, wheel 0.21, saddle 0.12, light 0.03, 1.7ms\n",
      "image 81/112 /home/user/LAB/Surveying_Camp/SL07_4/mask_70.jpg: 224x224 wheel 0.55, handbrake 0.19, mudguard 0.10, bell 0.04, saddle 0.03, 2.2ms\n",
      "image 82/112 /home/user/LAB/Surveying_Camp/SL07_4/mask_71.jpg: 224x224 chain 0.47, kickstand 0.14, gear_case 0.13, handle 0.10, steer 0.05, 2.1ms\n",
      "image 83/112 /home/user/LAB/Surveying_Camp/SL07_4/mask_72.jpg: 224x224 background 0.53, light 0.18, handbrake 0.10, handle 0.05, steer 0.05, 1.8ms\n",
      "image 84/112 /home/user/LAB/Surveying_Camp/SL07_4/mask_73.jpg: 224x224 steer 0.42, handbrake 0.22, background 0.13, handle 0.11, bell 0.07, 2.1ms\n",
      "image 85/112 /home/user/LAB/Surveying_Camp/SL07_4/mask_74.jpg: 224x224 handbrake 0.33, saddle 0.15, light 0.10, handle 0.08, dynamo 0.07, 2.6ms\n",
      "image 86/112 /home/user/LAB/Surveying_Camp/SL07_4/mask_75.jpg: 224x224 saddle 0.70, handle 0.11, pedal 0.04, dress_guard 0.04, kickstand 0.03, 1.8ms\n",
      "image 87/112 /home/user/LAB/Surveying_Camp/SL07_4/mask_76.jpg: 224x224 light 0.87, reflector 0.05, mudguard 0.04, pedal 0.02, background 0.00, 2.0ms\n",
      "image 88/112 /home/user/LAB/Surveying_Camp/SL07_4/mask_77.jpg: 224x224 saddle 0.80, reflector 0.06, steer 0.04, light 0.04, handbrake 0.01, 2.9ms\n",
      "image 89/112 /home/user/LAB/Surveying_Camp/SL07_4/mask_78.jpg: 224x224 steer 0.77, handle 0.09, handbrake 0.08, mudguard 0.02, bell 0.02, 1.8ms\n",
      "image 90/112 /home/user/LAB/Surveying_Camp/SL07_4/mask_79.jpg: 224x224 steer 0.57, handbrake 0.15, saddle 0.12, light 0.08, handle 0.03, 1.7ms\n",
      "image 91/112 /home/user/LAB/Surveying_Camp/SL07_4/mask_8.jpg: 224x224 steer 0.36, chain 0.18, gear_case 0.13, handle 0.07, wheel 0.05, 2.4ms\n",
      "image 92/112 /home/user/LAB/Surveying_Camp/SL07_4/mask_80.jpg: 224x224 handle 0.98, steer 0.01, handbrake 0.01, saddle 0.00, pedal 0.00, 2.1ms\n",
      "image 93/112 /home/user/LAB/Surveying_Camp/SL07_4/mask_81.jpg: 224x224 light 0.78, reflector 0.16, saddle 0.02, handle 0.01, pedal 0.01, 1.8ms\n",
      "image 94/112 /home/user/LAB/Surveying_Camp/SL07_4/mask_82.jpg: 224x224 saddle 0.52, reflector 0.12, dress_guard 0.09, light 0.04, handbrake 0.04, 2.2ms\n",
      "image 95/112 /home/user/LAB/Surveying_Camp/SL07_4/mask_83.jpg: 224x224 saddle 0.48, light 0.19, pedal 0.12, reflector 0.09, handle 0.07, 2.6ms\n",
      "image 96/112 /home/user/LAB/Surveying_Camp/SL07_4/mask_84.jpg: 224x224 dress_guard 0.46, saddle 0.19, kickstand 0.17, reflector 0.04, handbrake 0.03, 1.9ms\n",
      "image 97/112 /home/user/LAB/Surveying_Camp/SL07_4/mask_85.jpg: 224x224 background 0.58, handbrake 0.16, handle 0.11, steer 0.06, saddle 0.04, 2.4ms\n",
      "image 98/112 /home/user/LAB/Surveying_Camp/SL07_4/mask_86.jpg: 224x224 pedal 0.34, reflector 0.16, saddle 0.13, background 0.12, kickstand 0.10, 2.5ms\n",
      "image 99/112 /home/user/LAB/Surveying_Camp/SL07_4/mask_87.jpg: 224x224 saddle 0.42, light 0.23, dress_guard 0.07, steer 0.06, mudguard 0.05, 1.8ms\n",
      "image 100/112 /home/user/LAB/Surveying_Camp/SL07_4/mask_88.jpg: 224x224 dress_guard 0.27, kickstand 0.24, pedal 0.17, saddle 0.11, light 0.09, 1.9ms\n",
      "image 101/112 /home/user/LAB/Surveying_Camp/SL07_4/mask_89.jpg: 224x224 reflector 0.37, saddle 0.37, light 0.07, steer 0.05, bell 0.03, 2.1ms\n",
      "image 102/112 /home/user/LAB/Surveying_Camp/SL07_4/mask_9.jpg: 224x224 wheel 0.83, mudguard 0.16, reflector 0.00, light 0.00, dynamo 0.00, 2.6ms\n",
      "image 103/112 /home/user/LAB/Surveying_Camp/SL07_4/mask_90.jpg: 224x224 steer 0.75, handbrake 0.09, handle 0.09, saddle 0.02, light 0.02, 2.1ms\n",
      "image 104/112 /home/user/LAB/Surveying_Camp/SL07_4/mask_91.jpg: 224x224 mudguard 0.86, dynamo 0.07, light 0.04, reflector 0.01, dress_guard 0.01, 2.9ms\n",
      "image 105/112 /home/user/LAB/Surveying_Camp/SL07_4/mask_92.jpg: 224x224 steer 0.67, light 0.12, handle 0.09, saddle 0.06, wheel 0.01, 1.9ms\n",
      "image 106/112 /home/user/LAB/Surveying_Camp/SL07_4/mask_93.jpg: 224x224 light 0.24, reflector 0.16, handle 0.12, pedal 0.10, handbrake 0.07, 1.7ms\n",
      "image 107/112 /home/user/LAB/Surveying_Camp/SL07_4/mask_94.jpg: 224x224 lock 0.25, light 0.18, handbrake 0.12, dress_guard 0.09, handle 0.08, 2.6ms\n",
      "image 108/112 /home/user/LAB/Surveying_Camp/SL07_4/mask_95.jpg: 224x224 saddle 0.98, handle 0.01, lock 0.00, light 0.00, handbrake 0.00, 1.9ms\n",
      "image 109/112 /home/user/LAB/Surveying_Camp/SL07_4/mask_96.jpg: 224x224 reflector 0.86, light 0.06, saddle 0.04, handle 0.02, handbrake 0.01, 1.7ms\n",
      "image 110/112 /home/user/LAB/Surveying_Camp/SL07_4/mask_97.jpg: 224x224 reflector 0.21, kickstand 0.11, pedal 0.10, saddle 0.09, dress_guard 0.09, 2.7ms\n",
      "image 111/112 /home/user/LAB/Surveying_Camp/SL07_4/mask_98.jpg: 224x224 saddle 1.00, handle 0.00, bell 0.00, lock 0.00, reflector 0.00, 1.9ms\n",
      "image 112/112 /home/user/LAB/Surveying_Camp/SL07_4/mask_99.jpg: 224x224 saddle 0.64, dynamo 0.29, light 0.03, handle 0.02, lock 0.01, 1.7ms\n",
      "Speed: 1.9ms preprocess, 2.1ms inference, 0.0ms postprocess per image at shape (1, 3, 224, 224)\n",
      "📌 影像: mask_0.jpg\n",
      "🔹 預測類別: mudguard\n",
      "🔹 最高機率: 0.3839\n",
      "\n",
      "📌 影像: mask_1.jpg\n",
      "🔹 預測類別: wheel\n",
      "🔹 最高機率: 0.9754\n",
      "\n",
      "📌 影像: mask_10.jpg\n",
      "🔹 預測類別: wheel\n",
      "🔹 最高機率: 0.4799\n",
      "\n",
      "📌 影像: mask_100.jpg\n",
      "🔹 預測類別: saddle\n",
      "🔹 最高機率: 0.9924\n",
      "\n",
      "📌 影像: mask_101.jpg\n",
      "🔹 預測類別: background\n",
      "🔹 最高機率: 0.5306\n",
      "\n",
      "📌 影像: mask_102.jpg\n",
      "🔹 預測類別: background\n",
      "🔹 最高機率: 0.7835\n",
      "\n",
      "📌 影像: mask_103.jpg\n",
      "🔹 預測類別: background\n",
      "🔹 最高機率: 0.9346\n",
      "\n",
      "📌 影像: mask_104.jpg\n",
      "🔹 預測類別: saddle\n",
      "🔹 最高機率: 0.6720\n",
      "\n",
      "📌 影像: mask_105.jpg\n",
      "🔹 預測類別: steer\n",
      "🔹 最高機率: 0.4984\n",
      "\n",
      "📌 影像: mask_106.jpg\n",
      "🔹 預測類別: saddle\n",
      "🔹 最高機率: 0.3068\n",
      "\n",
      "📌 影像: mask_107.jpg\n",
      "🔹 預測類別: saddle\n",
      "🔹 最高機率: 0.8728\n",
      "\n",
      "📌 影像: mask_108.jpg\n",
      "🔹 預測類別: background\n",
      "🔹 最高機率: 0.9632\n",
      "\n",
      "📌 影像: mask_109.jpg\n",
      "🔹 預測類別: light\n",
      "🔹 最高機率: 0.5571\n",
      "\n",
      "📌 影像: mask_11.jpg\n",
      "🔹 預測類別: wheel\n",
      "🔹 最高機率: 0.9607\n",
      "\n",
      "📌 影像: mask_110.jpg\n",
      "🔹 預測類別: handbrake\n",
      "🔹 最高機率: 0.4655\n",
      "\n",
      "📌 影像: mask_111.jpg\n",
      "🔹 預測類別: reflector\n",
      "🔹 最高機率: 0.3783\n",
      "\n",
      "📌 影像: mask_12.jpg\n",
      "🔹 預測類別: saddle\n",
      "🔹 最高機率: 0.7968\n",
      "\n",
      "📌 影像: mask_13.jpg\n",
      "🔹 預測類別: background\n",
      "🔹 最高機率: 0.3250\n",
      "\n",
      "📌 影像: mask_14.jpg\n",
      "🔹 預測類別: mudguard\n",
      "🔹 最高機率: 0.8976\n",
      "\n",
      "📌 影像: mask_15.jpg\n",
      "🔹 預測類別: mudguard\n",
      "🔹 最高機率: 0.6009\n",
      "\n",
      "📌 影像: mask_16.jpg\n",
      "🔹 預測類別: mudguard\n",
      "🔹 最高機率: 0.6025\n",
      "\n",
      "📌 影像: mask_17.jpg\n",
      "🔹 預測類別: background\n",
      "🔹 最高機率: 0.9393\n",
      "\n",
      "📌 影像: mask_18.jpg\n",
      "🔹 預測類別: mudguard\n",
      "🔹 最高機率: 0.4150\n",
      "\n",
      "📌 影像: mask_19.jpg\n",
      "🔹 預測類別: steer\n",
      "🔹 最高機率: 0.4760\n",
      "\n",
      "📌 影像: mask_2.jpg\n",
      "🔹 預測類別: mudguard\n",
      "🔹 最高機率: 0.2504\n",
      "\n",
      "📌 影像: mask_20.jpg\n",
      "🔹 預測類別: chain\n",
      "🔹 最高機率: 0.1843\n",
      "\n",
      "📌 影像: mask_21.jpg\n",
      "🔹 預測類別: steer\n",
      "🔹 最高機率: 0.4723\n",
      "\n",
      "📌 影像: mask_22.jpg\n",
      "🔹 預測類別: wheel\n",
      "🔹 最高機率: 0.5009\n",
      "\n",
      "📌 影像: mask_23.jpg\n",
      "🔹 預測類別: wheel\n",
      "🔹 最高機率: 0.9763\n",
      "\n",
      "📌 影像: mask_24.jpg\n",
      "🔹 預測類別: steer\n",
      "🔹 最高機率: 0.5375\n",
      "\n",
      "📌 影像: mask_25.jpg\n",
      "🔹 預測類別: pedal\n",
      "🔹 最高機率: 0.2658\n",
      "\n",
      "📌 影像: mask_26.jpg\n",
      "🔹 預測類別: steer\n",
      "🔹 最高機率: 0.4522\n",
      "\n",
      "📌 影像: mask_27.jpg\n",
      "🔹 預測類別: saddle\n",
      "🔹 最高機率: 0.9932\n",
      "\n",
      "📌 影像: mask_28.jpg\n",
      "🔹 預測類別: steer\n",
      "🔹 最高機率: 0.4336\n",
      "\n",
      "📌 影像: mask_29.jpg\n",
      "🔹 預測類別: steer\n",
      "🔹 最高機率: 0.7360\n",
      "\n",
      "📌 影像: mask_3.jpg\n",
      "🔹 預測類別: wheel\n",
      "🔹 最高機率: 0.8610\n",
      "\n",
      "📌 影像: mask_30.jpg\n",
      "🔹 預測類別: mudguard\n",
      "🔹 最高機率: 0.5949\n",
      "\n",
      "📌 影像: mask_31.jpg\n",
      "🔹 預測類別: steer\n",
      "🔹 最高機率: 0.6919\n",
      "\n",
      "📌 影像: mask_32.jpg\n",
      "🔹 預測類別: mudguard\n",
      "🔹 最高機率: 0.6676\n",
      "\n",
      "📌 影像: mask_33.jpg\n",
      "🔹 預測類別: mudguard\n",
      "🔹 最高機率: 0.4420\n",
      "\n",
      "📌 影像: mask_34.jpg\n",
      "🔹 預測類別: steer\n",
      "🔹 最高機率: 0.5486\n",
      "\n",
      "📌 影像: mask_35.jpg\n",
      "🔹 預測類別: mudguard\n",
      "🔹 最高機率: 0.5953\n",
      "\n",
      "📌 影像: mask_36.jpg\n",
      "🔹 預測類別: steer\n",
      "🔹 最高機率: 0.4097\n",
      "\n",
      "📌 影像: mask_37.jpg\n",
      "🔹 預測類別: wheel\n",
      "🔹 最高機率: 0.5924\n",
      "\n",
      "📌 影像: mask_38.jpg\n",
      "🔹 預測類別: saddle\n",
      "🔹 最高機率: 0.9975\n",
      "\n",
      "📌 影像: mask_39.jpg\n",
      "🔹 預測類別: wheel\n",
      "🔹 最高機率: 0.2228\n",
      "\n",
      "📌 影像: mask_4.jpg\n",
      "🔹 預測類別: steer\n",
      "🔹 最高機率: 0.9137\n",
      "\n",
      "📌 影像: mask_40.jpg\n",
      "🔹 預測類別: saddle\n",
      "🔹 最高機率: 0.6040\n",
      "\n",
      "📌 影像: mask_41.jpg\n",
      "🔹 預測類別: steer\n",
      "🔹 最高機率: 0.7346\n",
      "\n",
      "📌 影像: mask_42.jpg\n",
      "🔹 預測類別: wheel\n",
      "🔹 最高機率: 0.3637\n",
      "\n",
      "📌 影像: mask_43.jpg\n",
      "🔹 預測類別: steer\n",
      "🔹 最高機率: 0.5154\n",
      "\n",
      "📌 影像: mask_44.jpg\n",
      "🔹 預測類別: mudguard\n",
      "🔹 最高機率: 0.5792\n",
      "\n",
      "📌 影像: mask_45.jpg\n",
      "🔹 預測類別: steer\n",
      "🔹 最高機率: 0.2493\n",
      "\n",
      "📌 影像: mask_46.jpg\n",
      "🔹 預測類別: steer\n",
      "🔹 最高機率: 0.4193\n",
      "\n",
      "📌 影像: mask_47.jpg\n",
      "🔹 預測類別: background\n",
      "🔹 最高機率: 0.5825\n",
      "\n",
      "📌 影像: mask_48.jpg\n",
      "🔹 預測類別: steer\n",
      "🔹 最高機率: 0.3170\n",
      "\n",
      "📌 影像: mask_49.jpg\n",
      "🔹 預測類別: light\n",
      "🔹 最高機率: 0.4537\n",
      "\n",
      "📌 影像: mask_5.jpg\n",
      "🔹 預測類別: wheel\n",
      "🔹 最高機率: 0.3742\n",
      "\n",
      "📌 影像: mask_50.jpg\n",
      "🔹 預測類別: light\n",
      "🔹 最高機率: 0.5532\n",
      "\n",
      "📌 影像: mask_51.jpg\n",
      "🔹 預測類別: light\n",
      "🔹 最高機率: 0.2247\n",
      "\n",
      "📌 影像: mask_52.jpg\n",
      "🔹 預測類別: steer\n",
      "🔹 最高機率: 0.3543\n",
      "\n",
      "📌 影像: mask_53.jpg\n",
      "🔹 預測類別: mudguard\n",
      "🔹 最高機率: 0.4117\n",
      "\n",
      "📌 影像: mask_54.jpg\n",
      "🔹 預測類別: light\n",
      "🔹 最高機率: 0.4051\n",
      "\n",
      "📌 影像: mask_55.jpg\n",
      "🔹 預測類別: mudguard\n",
      "🔹 最高機率: 0.3606\n",
      "\n",
      "📌 影像: mask_56.jpg\n",
      "🔹 預測類別: wheel\n",
      "🔹 最高機率: 0.8706\n",
      "\n",
      "📌 影像: mask_57.jpg\n",
      "🔹 預測類別: saddle\n",
      "🔹 最高機率: 0.5075\n",
      "\n",
      "📌 影像: mask_58.jpg\n",
      "🔹 預測類別: handbrake\n",
      "🔹 最高機率: 0.3276\n",
      "\n",
      "📌 影像: mask_59.jpg\n",
      "🔹 預測類別: saddle\n",
      "🔹 最高機率: 0.8249\n",
      "\n",
      "📌 影像: mask_6.jpg\n",
      "🔹 預測類別: wheel\n",
      "🔹 最高機率: 0.3940\n",
      "\n",
      "📌 影像: mask_60.jpg\n",
      "🔹 預測類別: steer\n",
      "🔹 最高機率: 0.5304\n",
      "\n",
      "📌 影像: mask_61.jpg\n",
      "🔹 預測類別: wheel\n",
      "🔹 最高機率: 0.3863\n",
      "\n",
      "📌 影像: mask_62.jpg\n",
      "🔹 預測類別: steer\n",
      "🔹 最高機率: 0.3259\n",
      "\n",
      "📌 影像: mask_63.jpg\n",
      "🔹 預測類別: saddle\n",
      "🔹 最高機率: 0.6435\n",
      "\n",
      "📌 影像: mask_64.jpg\n",
      "🔹 預測類別: handle\n",
      "🔹 最高機率: 0.4415\n",
      "\n",
      "📌 影像: mask_65.jpg\n",
      "🔹 預測類別: handle\n",
      "🔹 最高機率: 0.5147\n",
      "\n",
      "📌 影像: mask_66.jpg\n",
      "🔹 預測類別: kickstand\n",
      "🔹 最高機率: 0.2671\n",
      "\n",
      "📌 影像: mask_67.jpg\n",
      "🔹 預測類別: saddle\n",
      "🔹 最高機率: 0.9989\n",
      "\n",
      "📌 影像: mask_68.jpg\n",
      "🔹 預測類別: saddle\n",
      "🔹 最高機率: 0.9807\n",
      "\n",
      "📌 影像: mask_69.jpg\n",
      "🔹 預測類別: mudguard\n",
      "🔹 最高機率: 0.6400\n",
      "\n",
      "📌 影像: mask_7.jpg\n",
      "🔹 預測類別: mudguard\n",
      "🔹 最高機率: 0.3278\n",
      "\n",
      "📌 影像: mask_70.jpg\n",
      "🔹 預測類別: wheel\n",
      "🔹 最高機率: 0.5529\n",
      "\n",
      "📌 影像: mask_71.jpg\n",
      "🔹 預測類別: chain\n",
      "🔹 最高機率: 0.4712\n",
      "\n",
      "📌 影像: mask_72.jpg\n",
      "🔹 預測類別: background\n",
      "🔹 最高機率: 0.5293\n",
      "\n",
      "📌 影像: mask_73.jpg\n",
      "🔹 預測類別: steer\n",
      "🔹 最高機率: 0.4240\n",
      "\n",
      "📌 影像: mask_74.jpg\n",
      "🔹 預測類別: handbrake\n",
      "🔹 最高機率: 0.3255\n",
      "\n",
      "📌 影像: mask_75.jpg\n",
      "🔹 預測類別: saddle\n",
      "🔹 最高機率: 0.6986\n",
      "\n",
      "📌 影像: mask_76.jpg\n",
      "🔹 預測類別: light\n",
      "🔹 最高機率: 0.8684\n",
      "\n",
      "📌 影像: mask_77.jpg\n",
      "🔹 預測類別: saddle\n",
      "🔹 最高機率: 0.7958\n",
      "\n",
      "📌 影像: mask_78.jpg\n",
      "🔹 預測類別: steer\n",
      "🔹 最高機率: 0.7687\n",
      "\n",
      "📌 影像: mask_79.jpg\n",
      "🔹 預測類別: steer\n",
      "🔹 最高機率: 0.5667\n",
      "\n",
      "📌 影像: mask_8.jpg\n",
      "🔹 預測類別: steer\n",
      "🔹 最高機率: 0.3617\n",
      "\n",
      "📌 影像: mask_80.jpg\n",
      "🔹 預測類別: handle\n",
      "🔹 最高機率: 0.9814\n",
      "\n",
      "📌 影像: mask_81.jpg\n",
      "🔹 預測類別: light\n",
      "🔹 最高機率: 0.7825\n",
      "\n",
      "📌 影像: mask_82.jpg\n",
      "🔹 預測類別: saddle\n",
      "🔹 最高機率: 0.5242\n",
      "\n",
      "📌 影像: mask_83.jpg\n",
      "🔹 預測類別: saddle\n",
      "🔹 最高機率: 0.4794\n",
      "\n",
      "📌 影像: mask_84.jpg\n",
      "🔹 預測類別: dress_guard\n",
      "🔹 最高機率: 0.4630\n",
      "\n",
      "📌 影像: mask_85.jpg\n",
      "🔹 預測類別: background\n",
      "🔹 最高機率: 0.5788\n",
      "\n",
      "📌 影像: mask_86.jpg\n",
      "🔹 預測類別: pedal\n",
      "🔹 最高機率: 0.3409\n",
      "\n",
      "📌 影像: mask_87.jpg\n",
      "🔹 預測類別: saddle\n",
      "🔹 最高機率: 0.4228\n",
      "\n",
      "📌 影像: mask_88.jpg\n",
      "🔹 預測類別: dress_guard\n",
      "🔹 最高機率: 0.2656\n",
      "\n",
      "📌 影像: mask_89.jpg\n",
      "🔹 預測類別: reflector\n",
      "🔹 最高機率: 0.3722\n",
      "\n",
      "📌 影像: mask_9.jpg\n",
      "🔹 預測類別: wheel\n",
      "🔹 最高機率: 0.8319\n",
      "\n",
      "📌 影像: mask_90.jpg\n",
      "🔹 預測類別: steer\n",
      "🔹 最高機率: 0.7493\n",
      "\n",
      "📌 影像: mask_91.jpg\n",
      "🔹 預測類別: mudguard\n",
      "🔹 最高機率: 0.8610\n",
      "\n",
      "📌 影像: mask_92.jpg\n",
      "🔹 預測類別: steer\n",
      "🔹 最高機率: 0.6702\n",
      "\n",
      "📌 影像: mask_93.jpg\n",
      "🔹 預測類別: light\n",
      "🔹 最高機率: 0.2418\n",
      "\n",
      "📌 影像: mask_94.jpg\n",
      "🔹 預測類別: lock\n",
      "🔹 最高機率: 0.2458\n",
      "\n",
      "📌 影像: mask_95.jpg\n",
      "🔹 預測類別: saddle\n",
      "🔹 最高機率: 0.9765\n",
      "\n",
      "📌 影像: mask_96.jpg\n",
      "🔹 預測類別: reflector\n",
      "🔹 最高機率: 0.8569\n",
      "\n",
      "📌 影像: mask_97.jpg\n",
      "🔹 預測類別: reflector\n",
      "🔹 最高機率: 0.2062\n",
      "\n",
      "📌 影像: mask_98.jpg\n",
      "🔹 預測類別: saddle\n",
      "🔹 最高機率: 0.9983\n",
      "\n",
      "📌 影像: mask_99.jpg\n",
      "🔹 預測類別: saddle\n",
      "🔹 最高機率: 0.6392\n",
      "\n",
      "✅ `saddle_output` 內含: ['mask_68.jpg', 'mask_67.jpg', 'mask_95.jpg', 'mask_107.jpg', 'mask_100.jpg', 'mask_98.jpg', 'saddle_results.csv', 'mask_38.jpg', 'mask_27.jpg']\n",
      "✅ `not_saddle_output` 內含: ['mask_61.jpg', 'mask_77.jpg', 'mask_6.jpg', 'mask_29.jpg', 'mask_59.jpg', 'mask_51.jpg', 'mask_47.jpg', 'mask_46.jpg', 'mask_60.jpg', 'mask_106.jpg', 'mask_25.jpg', 'mask_35.jpg', 'mask_65.jpg', 'mask_50.jpg', 'mask_49.jpg', 'mask_26.jpg', 'mask_36.jpg', 'mask_72.jpg', 'mask_75.jpg', 'mask_44.jpg', 'mask_81.jpg', 'mask_30.jpg', 'mask_97.jpg', 'mask_8.jpg', 'mask_92.jpg', 'mask_86.jpg', 'mask_39.jpg', 'mask_62.jpg', 'mask_42.jpg', 'mask_20.jpg', 'mask_79.jpg', 'mask_82.jpg', 'mask_73.jpg', 'mask_32.jpg', 'mask_23.jpg', 'mask_78.jpg', 'mask_58.jpg', 'mask_14.jpg', 'mask_83.jpg', 'mask_18.jpg', 'mask_94.jpg', 'mask_37.jpg', 'mask_52.jpg', 'mask_89.jpg', 'mask_71.jpg', 'mask_54.jpg', 'mask_11.jpg', 'mask_22.jpg', 'mask_10.jpg', 'not_saddle_results.csv', 'mask_0.jpg', 'mask_80.jpg', 'mask_21.jpg', 'mask_53.jpg', 'mask_102.jpg', 'mask_76.jpg', 'mask_87.jpg', 'mask_74.jpg', 'mask_63.jpg', 'mask_24.jpg', 'mask_105.jpg', 'mask_84.jpg', 'mask_41.jpg', 'mask_55.jpg', 'mask_109.jpg', 'mask_12.jpg', 'mask_91.jpg', 'mask_31.jpg', 'mask_7.jpg', 'mask_93.jpg', 'mask_90.jpg', 'mask_57.jpg', 'mask_99.jpg', 'mask_33.jpg', 'mask_28.jpg', 'mask_5.jpg', 'mask_9.jpg', 'mask_88.jpg', 'mask_69.jpg', 'mask_16.jpg', 'mask_43.jpg', 'mask_19.jpg', 'mask_110.jpg', 'mask_13.jpg', 'mask_64.jpg', 'mask_2.jpg', 'mask_103.jpg', 'mask_48.jpg', 'mask_3.jpg', 'mask_70.jpg', 'mask_56.jpg', 'mask_1.jpg', 'mask_4.jpg', 'mask_40.jpg', 'mask_85.jpg', 'mask_108.jpg', 'mask_15.jpg', 'mask_17.jpg', 'mask_101.jpg', 'mask_66.jpg', 'mask_45.jpg', 'mask_111.jpg', 'mask_34.jpg', 'mask_96.jpg', 'mask_104.jpg']\n",
      "📄 `saddle_results.csv` (機率 > 0.85) 已存入: ./SL07_4_result/saddle_output/saddle_results.csv\n",
      "📄 `not_saddle_results.csv` 已存入: ./SL07_4_result/not_saddle_output/not_saddle_results.csv\n"
     ]
    }
   ],
   "source": [
    "import os\n",
    "import yaml\n",
    "import shutil  # 搬移檔案\n",
    "import pandas as pd  # 儲存 CSV\n",
    "from ultralytics import YOLO\n",
    "\n",
    "# 載入訓練好的 YOLOv8 分類模型\n",
    "final_model = YOLO(\"./runs/classify/train4/weights/last.pt\")\n",
    "\n",
    "# 設定輸入影像資料夾\n",
    "input_folder = \"./SL07_4\"  # 你的影像資料夾\n",
    "\n",
    "# 設定輸出結果資料夾 (依據 `input_folder` 命名)\n",
    "output_root = f\"{input_folder}_result\"\n",
    "saddle_output_folder = os.path.join(output_root, \"saddle_output\")  # ✅ 存放高機率 \"saddle\" 影像\n",
    "not_saddle_output_folder = os.path.join(output_root, \"not_saddle_output\")  # ✅ 存放非 \"saddle\" 或低機率 saddle 影像\n",
    "os.makedirs(saddle_output_folder, exist_ok=True)\n",
    "os.makedirs(not_saddle_output_folder, exist_ok=True)\n",
    "\n",
    "# 讀取 `data.yaml` 獲取類別名稱\n",
    "yaml_path = \"./dataset-yolo-cls-cropped/data.yaml\"  # 你的 data.yaml 路徑\n",
    "with open(yaml_path, \"r\", encoding=\"utf-8\") as f:\n",
    "    data_config = yaml.safe_load(f)\n",
    "\n",
    "# 取得類別名稱對應\n",
    "class_names = data_config[\"names\"]  # 這是一個 list，對應類別 ID\n",
    "saddle_class_id = class_names.index(\"saddle\")  # 找到 \"saddle\" 在 class_names 裡的索引\n",
    "\n",
    "# 用來存放 `saddle` 和 `not_saddle` 影像的辨識結果\n",
    "saddle_results = []\n",
    "not_saddle_results = []\n",
    "\n",
    "# 進行影像分類\n",
    "results = final_model.predict(source=input_folder, save=False)  # 不再存 `cls_output`\n",
    "\n",
    "for result in results:\n",
    "    # 取得該影像的分類機率\n",
    "    probs = result.probs  # 取得所有類別的機率\n",
    "\n",
    "    if probs is not None:  # 確保有機率值\n",
    "        max_prob_idx = probs.top1  # 取得最高機率的類別索引\n",
    "        max_prob_value = probs.top1conf  # 取得最高機率值\n",
    "        image_path = result.path  # 影像路徑\n",
    "        image_name = os.path.basename(image_path)  # 取得檔案名稱\n",
    "        \n",
    "        print(f\"📌 影像: {image_name}\")\n",
    "        print(f\"🔹 預測類別: {class_names[max_prob_idx]}\")\n",
    "        print(f\"🔹 最高機率: {max_prob_value:.4f}\\n\")\n",
    "\n",
    "        # ✅ **分類為 `saddle` 且機率 > 0.85**\n",
    "        if max_prob_idx == saddle_class_id and max_prob_value > 0.85:\n",
    "            shutil.copy(image_path, os.path.join(saddle_output_folder, image_name))\n",
    "            saddle_results.append([image_name, max_prob_value])  \n",
    "\n",
    "        # ✅ **非 \"saddle\" 或 \"saddle\" 但機率 ≤ 0.85**\n",
    "        else:\n",
    "            shutil.copy(image_path, os.path.join(not_saddle_output_folder, image_name))\n",
    "            not_saddle_results.append([image_name, max_prob_value, class_names[max_prob_idx]])  \n",
    "\n",
    "# **儲存 `saddle` 結果為 CSV (只包含機率 > 0.85 的影像)**\n",
    "saddle_csv_path = os.path.join(saddle_output_folder, \"saddle_results.csv\")\n",
    "df_saddle = pd.DataFrame(saddle_results, columns=[\"Image\", \"Probability\"])\n",
    "df_saddle.to_csv(saddle_csv_path, index=False)\n",
    "\n",
    "# **儲存 `not_saddle` 結果為 CSV**\n",
    "not_saddle_csv_path = os.path.join(not_saddle_output_folder, \"not_saddle_results.csv\")\n",
    "df_not_saddle = pd.DataFrame(not_saddle_results, columns=[\"Image\", \"Probability\", \"Predicted_Class\"])\n",
    "df_not_saddle.to_csv(not_saddle_csv_path, index=False)\n",
    "\n",
    "print(f\"✅ `saddle_output` 內含: {os.listdir(saddle_output_folder)}\")\n",
    "print(f\"✅ `not_saddle_output` 內含: {os.listdir(not_saddle_output_folder)}\")\n",
    "print(f\"📄 `saddle_results.csv` (機率 > 0.85) 已存入: {saddle_csv_path}\")\n",
    "print(f\"📄 `not_saddle_results.csv` 已存入: {not_saddle_csv_path}\")"
   ]
  },
  {
   "cell_type": "code",
   "execution_count": null,
   "metadata": {},
   "outputs": [],
   "source": []
  }
 ],
 "metadata": {
  "kernelspec": {
   "display_name": "Python 3 (ipykernel)",
   "language": "python",
   "name": "python3"
  },
  "language_info": {
   "codemirror_mode": {
    "name": "ipython",
    "version": 3
   },
   "file_extension": ".py",
   "mimetype": "text/x-python",
   "name": "python",
   "nbconvert_exporter": "python",
   "pygments_lexer": "ipython3",
   "version": "3.9.21"
  }
 },
 "nbformat": 4,
 "nbformat_minor": 4
}
